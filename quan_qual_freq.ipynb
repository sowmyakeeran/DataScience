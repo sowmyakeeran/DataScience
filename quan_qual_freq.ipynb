{
 "cells": [
  {
   "cell_type": "code",
   "execution_count": 1,
   "id": "0b873638",
   "metadata": {},
   "outputs": [],
   "source": [
    "import pandas as pd"
   ]
  },
  {
   "cell_type": "code",
   "execution_count": 2,
   "id": "fa7a0eb3",
   "metadata": {},
   "outputs": [],
   "source": [
    "dataset=pd.read_csv(\"Placement.csv\")"
   ]
  },
  {
   "cell_type": "code",
   "execution_count": 3,
   "id": "883b235a",
   "metadata": {},
   "outputs": [],
   "source": [
    "from univariate import Univariate"
   ]
  },
  {
   "cell_type": "code",
   "execution_count": 4,
   "id": "7d6e4a44",
   "metadata": {},
   "outputs": [],
   "source": [
    "obj=Univariate()"
   ]
  },
  {
   "cell_type": "code",
   "execution_count": 5,
   "id": "ddcdfa2d",
   "metadata": {},
   "outputs": [
    {
     "data": {
      "text/html": [
       "<div>\n",
       "<style scoped>\n",
       "    .dataframe tbody tr th:only-of-type {\n",
       "        vertical-align: middle;\n",
       "    }\n",
       "\n",
       "    .dataframe tbody tr th {\n",
       "        vertical-align: top;\n",
       "    }\n",
       "\n",
       "    .dataframe thead th {\n",
       "        text-align: right;\n",
       "    }\n",
       "</style>\n",
       "<table border=\"1\" class=\"dataframe\">\n",
       "  <thead>\n",
       "    <tr style=\"text-align: right;\">\n",
       "      <th></th>\n",
       "      <th>Unique_Values</th>\n",
       "      <th>Frequency</th>\n",
       "      <th>Relative_Freq</th>\n",
       "      <th>Cumsum</th>\n",
       "    </tr>\n",
       "  </thead>\n",
       "  <tbody>\n",
       "    <tr>\n",
       "      <th>0</th>\n",
       "      <td>40.89</td>\n",
       "      <td>1</td>\n",
       "      <td>0.970874</td>\n",
       "      <td>0.970874</td>\n",
       "    </tr>\n",
       "    <tr>\n",
       "      <th>1</th>\n",
       "      <td>41.00</td>\n",
       "      <td>1</td>\n",
       "      <td>0.970874</td>\n",
       "      <td>1.941748</td>\n",
       "    </tr>\n",
       "    <tr>\n",
       "      <th>2</th>\n",
       "      <td>43.00</td>\n",
       "      <td>1</td>\n",
       "      <td>0.970874</td>\n",
       "      <td>2.912621</td>\n",
       "    </tr>\n",
       "    <tr>\n",
       "      <th>3</th>\n",
       "      <td>44.00</td>\n",
       "      <td>1</td>\n",
       "      <td>0.970874</td>\n",
       "      <td>3.883495</td>\n",
       "    </tr>\n",
       "    <tr>\n",
       "      <th>4</th>\n",
       "      <td>45.00</td>\n",
       "      <td>1</td>\n",
       "      <td>0.970874</td>\n",
       "      <td>4.854369</td>\n",
       "    </tr>\n",
       "    <tr>\n",
       "      <th>...</th>\n",
       "      <td>...</td>\n",
       "      <td>...</td>\n",
       "      <td>...</td>\n",
       "      <td>...</td>\n",
       "    </tr>\n",
       "    <tr>\n",
       "      <th>98</th>\n",
       "      <td>85.80</td>\n",
       "      <td>1</td>\n",
       "      <td>0.970874</td>\n",
       "      <td>202.912621</td>\n",
       "    </tr>\n",
       "    <tr>\n",
       "      <th>99</th>\n",
       "      <td>86.50</td>\n",
       "      <td>1</td>\n",
       "      <td>0.970874</td>\n",
       "      <td>203.883495</td>\n",
       "    </tr>\n",
       "    <tr>\n",
       "      <th>100</th>\n",
       "      <td>87.00</td>\n",
       "      <td>3</td>\n",
       "      <td>2.912621</td>\n",
       "      <td>206.796117</td>\n",
       "    </tr>\n",
       "    <tr>\n",
       "      <th>101</th>\n",
       "      <td>88.00</td>\n",
       "      <td>1</td>\n",
       "      <td>0.970874</td>\n",
       "      <td>207.766990</td>\n",
       "    </tr>\n",
       "    <tr>\n",
       "      <th>102</th>\n",
       "      <td>89.40</td>\n",
       "      <td>1</td>\n",
       "      <td>0.970874</td>\n",
       "      <td>208.737864</td>\n",
       "    </tr>\n",
       "  </tbody>\n",
       "</table>\n",
       "<p>103 rows × 4 columns</p>\n",
       "</div>"
      ],
      "text/plain": [
       "     Unique_Values  Frequency  Relative_Freq      Cumsum\n",
       "0            40.89          1       0.970874    0.970874\n",
       "1            41.00          1       0.970874    1.941748\n",
       "2            43.00          1       0.970874    2.912621\n",
       "3            44.00          1       0.970874    3.883495\n",
       "4            45.00          1       0.970874    4.854369\n",
       "..             ...        ...            ...         ...\n",
       "98           85.80          1       0.970874  202.912621\n",
       "99           86.50          1       0.970874  203.883495\n",
       "100          87.00          3       2.912621  206.796117\n",
       "101          88.00          1       0.970874  207.766990\n",
       "102          89.40          1       0.970874  208.737864\n",
       "\n",
       "[103 rows x 4 columns]"
      ]
     },
     "execution_count": 5,
     "metadata": {},
     "output_type": "execute_result"
    }
   ],
   "source": [
    "obj.frequencyTable(dataset,\"ssc_p\")"
   ]
  },
  {
   "cell_type": "code",
   "execution_count": null,
   "id": "34f975c3",
   "metadata": {},
   "outputs": [],
   "source": []
  }
 ],
 "metadata": {
  "kernelspec": {
   "display_name": "Python 3 (ipykernel)",
   "language": "python",
   "name": "python3"
  },
  "language_info": {
   "codemirror_mode": {
    "name": "ipython",
    "version": 3
   },
   "file_extension": ".py",
   "mimetype": "text/x-python",
   "name": "python",
   "nbconvert_exporter": "python",
   "pygments_lexer": "ipython3",
   "version": "3.7.6"
  }
 },
 "nbformat": 4,
 "nbformat_minor": 5
}
